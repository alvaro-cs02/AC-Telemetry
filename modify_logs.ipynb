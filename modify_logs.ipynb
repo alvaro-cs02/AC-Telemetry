{
 "cells": [
  {
   "cell_type": "code",
   "execution_count": 6,
   "metadata": {},
   "outputs": [
    {
     "name": "stdout",
     "output_type": "stream",
     "text": [
      "Normalized data saved to logs/alvaro_carreiro_buena_1_20240619_183937_normalized.csv\n",
      "Normalized data saved to logs/alvaro_carreiro_buena_2_20240619_184503_normalized.csv\n",
      "Normalized data saved to logs/alvaro_carreiro_buena_3_20240619_185020_normalized.csv\n",
      "Normalized data saved to logs/alvaro_carreiro_buena_4_20240619_185418_normalized.csv\n",
      "Normalized data saved to logs/santiago_higuera_1_20240619_181447_normalized.csv\n",
      "Normalized data saved to logs/santiago_higuera_2_20240619_181948_normalized.csv\n",
      "Normalized data saved to logs/santiago_higuera_3_20240619_182447_normalized.csv\n",
      "Normalized data saved to logs/santiago_higuera_4_20240619_183011_normalized.csv\n"
     ]
    }
   ],
   "source": [
    "import pandas as pd\n",
    "import os\n",
    "\n",
    "def add_normalized_position(file_paths):\n",
    "    for file_path in file_paths:\n",
    "        # Read the metadata and data separately\n",
    "        metadata = []\n",
    "        data_start_line = 0\n",
    "\n",
    "        # Read the file line by line\n",
    "        with open(file_path, 'r') as f:\n",
    "            lines = f.readlines()\n",
    "            for i, line in enumerate(lines):\n",
    "                if line.startswith('#'):\n",
    "                    metadata.append(line.strip())\n",
    "                else:\n",
    "                    data_start_line = i\n",
    "                    break\n",
    "        \n",
    "        # Load the CSV data, skipping the metadata lines\n",
    "        try:\n",
    "            data = pd.read_csv(file_path, skiprows=data_start_line)\n",
    "        except pd.errors.EmptyDataError:\n",
    "            print(f\"No data found in {file_path}. Skipping this file.\")\n",
    "            continue\n",
    "\n",
    "        # Check if the 'distanceTraveled' column exists\n",
    "        if 'distanceTraveled' not in data.columns:\n",
    "            print(f\"'distanceTraveled' column not found in {file_path}. Skipping this file.\")\n",
    "            continue\n",
    "\n",
    "        # Get the maximum value of 'distanceTraveled'\n",
    "        max_distance = data['distanceTraveled'].max()\n",
    "        \n",
    "        # If max_distance is 0, avoid division by zero\n",
    "        if max_distance == 0:\n",
    "            print(f\"Max distance is zero in {file_path}. Skipping normalization.\")\n",
    "            continue\n",
    "\n",
    "        # Calculate the 'normalizedCarPosition'\n",
    "        data['normalizedCarPosition'] = data['distanceTraveled'] / max_distance\n",
    "        \n",
    "        # Prepare output path and write the metadata and data\n",
    "        output_path = file_path.replace(\".csv\", \"_normalized.csv\")\n",
    "        with open(output_path, 'w', newline='') as f:\n",
    "            # Write the metadata back to the file\n",
    "            for meta in metadata:\n",
    "                f.write(meta + \"\\n\")\n",
    "            # Save the updated dataframe, without the index\n",
    "            data.to_csv(f, index=False, lineterminator='\\n')\n",
    "        print(f\"Normalized data saved to {output_path}\")\n",
    "\n",
    "# List of file paths to process\n",
    "file_paths = [\n",
    "    \"logs/alvaro_carreiro_buena_1_20240619_183937.csv\", \n",
    "    \"logs/alvaro_carreiro_buena_2_20240619_184503.csv\", \n",
    "    \"logs/alvaro_carreiro_buena_3_20240619_185020.csv\",\n",
    "    \"logs/alvaro_carreiro_buena_4_20240619_185418.csv\",\n",
    "    \"logs/santiago_higuera_1_20240619_181447.csv\",\n",
    "    \"logs/santiago_higuera_2_20240619_181948.csv\",\n",
    "    \"logs/santiago_higuera_3_20240619_182447.csv\",\n",
    "    \"logs/santiago_higuera_4_20240619_183011.csv\"\n",
    "    ]\n",
    "\n",
    "# Add normalized position to each file\n",
    "add_normalized_position(file_paths)\n"
   ]
  }
 ],
 "metadata": {
  "kernelspec": {
   "display_name": "actelemetry",
   "language": "python",
   "name": "python3"
  },
  "language_info": {
   "codemirror_mode": {
    "name": "ipython",
    "version": 3
   },
   "file_extension": ".py",
   "mimetype": "text/x-python",
   "name": "python",
   "nbconvert_exporter": "python",
   "pygments_lexer": "ipython3",
   "version": "3.12.2"
  }
 },
 "nbformat": 4,
 "nbformat_minor": 2
}
